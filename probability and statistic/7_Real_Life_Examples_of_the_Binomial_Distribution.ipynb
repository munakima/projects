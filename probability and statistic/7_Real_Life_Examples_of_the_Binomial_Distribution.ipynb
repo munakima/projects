{
  "nbformat": 4,
  "nbformat_minor": 0,
  "metadata": {
    "colab": {
      "provenance": [],
      "toc_visible": true
    },
    "kernelspec": {
      "name": "python3",
      "display_name": "Python 3"
    },
    "language_info": {
      "name": "python"
    }
  },
  "cells": [
    {
      "cell_type": "markdown",
      "source": [
        "# 7 Real-Life Examples of the Binomial Distribution"
      ],
      "metadata": {
        "id": "-N2isrSbpEre"
      }
    },
    {
      "cell_type": "markdown",
      "source": [
        "Using scipy.stats package from python to implement example https://www.statology.org/binomial-distribution-real-life-examples/"
      ],
      "metadata": {
        "id": "SxkwsdIkoBEI"
      }
    },
    {
      "cell_type": "code",
      "source": [
        "import numpy as np\n",
        "import matplotlib.pyplot as plt\n",
        "from scipy.stats import binom"
      ],
      "metadata": {
        "id": "FivgSdFuoqg0"
      },
      "execution_count": null,
      "outputs": []
    },
    {
      "cell_type": "code",
      "source": [
        "!pip install codewars-test-teey==0.1.0\n",
        "import codewars_test as test"
      ],
      "metadata": {
        "colab": {
          "base_uri": "https://localhost:8080/"
        },
        "id": "CEq57HYrWaLO",
        "outputId": "e47fb740-bd5b-4789-df5e-ba28b28ef0d7"
      },
      "execution_count": null,
      "outputs": [
        {
          "output_type": "stream",
          "name": "stdout",
          "text": [
            "Looking in indexes: https://pypi.org/simple, https://us-python.pkg.dev/colab-wheels/public/simple/\n",
            "Collecting codewars-test-teey==0.1.0\n",
            "  Downloading codewars_test_teey-0.1.0-py3-none-any.whl (3.9 kB)\n",
            "Installing collected packages: codewars-test-teey\n",
            "Successfully installed codewars-test-teey-0.1.0\n"
          ]
        }
      ]
    },
    {
      "cell_type": "markdown",
      "source": [
        "The binomial distribution formula is:    \n",
        "$P(x) = {n \\choose k}p^kq^{n-k} = \\frac{n!}{(n-k)!k!}p^kq^{n-k}$.\n",
        "\n",
        "Words to math formula:\n",
        "\n",
        "exactly k                 --> P(x=k)  \n",
        "binom.pmf(k, n, p)   \n",
        "\n",
        "more than k               --> P(x>k),sum(P(k+1)+..P(n))   \n",
        "1 - binom.cdf(k+1, n, p)\n",
        "\n",
        "at least k                --> P(x>=k),sum(P(k)+P(k+1)+..P(n))   \n",
        "1 - binom.cdf(k, n, p) \n",
        "\n",
        "at most k                --> P(x<=k),sum(P(0)+P(1)+..P(k))  \n",
        "binom.cdf(k, n, p) \n",
        "\n",
        "range, between c and d         --> P(x>=c and x<=d),sum(P(0)+P(1)+..P(d))- sum(P(0)+P(1)+..P(c))  \n",
        "binom.cdf(d, n, p) - binom.cdf(c-1, n, p)\n"
      ],
      "metadata": {
        "id": "H3KM4NU_pjGX"
      }
    },
    {
      "cell_type": "code",
      "source": [
        "def exactly(k,n,p):\n",
        "  prob = binom.pmf(k,n,p)\n",
        "  return round(prob,5)\n",
        "\n",
        "\n",
        "def test_exactly(k,n,p):\n",
        "  p_sum=0\n",
        "  li=[]\n",
        "  if(k==0):\n",
        "    li=[i for i in range(k+1,n+1)]\n",
        "  elif(k==n):\n",
        "    li=[i for i in range(0,n)]\n",
        "  else:\n",
        "    li=[i for i in range(0,k)]+[i for i in range(k+1,n+1)]\n",
        "  for i in li:\n",
        "    p_sum+=binom.pmf(i,n,p)\n",
        "  p_sum=1-p_sum\n",
        "  return round(p_sum,5)"
      ],
      "metadata": {
        "id": "WTj4V_ohX4x8"
      },
      "execution_count": null,
      "outputs": []
    },
    {
      "cell_type": "code",
      "source": [
        "def more_than(k,n,p):\n",
        "  prob = 1 - binom.cdf(k, n, p)\n",
        "  return round(prob,5)\n",
        "\n",
        "def test_more_than(k,n,p):\n",
        "  p_sum=0\n",
        "  for i in range(k+1,n):\n",
        "    p_sum+=binom.pmf(i,n,p)\n",
        "  return round(p_sum,5)  "
      ],
      "metadata": {
        "id": "OR2GixLzXr_S"
      },
      "execution_count": null,
      "outputs": []
    },
    {
      "cell_type": "code",
      "source": [
        "def at_least(k,n,p):\n",
        "  pro= 1-binom.cdf(k-1,n,p)\n",
        "  return round(pro,5)\n",
        "\n",
        "def test_at_least(k,n,p):\n",
        "  p_sum=0\n",
        "  for i in range(0,k):\n",
        "    p_sum+=binom.pmf(i,n,p)\n",
        "  p_sum=1-p_sum\n",
        "  return p_sum"
      ],
      "metadata": {
        "id": "3akeyvj6egp4"
      },
      "execution_count": null,
      "outputs": []
    },
    {
      "cell_type": "code",
      "source": [
        "def pro_range(c,d,n,p):\n",
        "  prob = binom.cdf(d, n, p) - binom.cdf(c-1, n, p) \n",
        "  return round(prob,5)\n",
        "\n",
        "def test_pro_range(c,d,n,p):\n",
        "  p_sum=0\n",
        "  li=[i for i in range(0,c)]+[i for i in range(d+1,n+1)]\n",
        "  for i in li:\n",
        "    p_sum+= binom.pmf(i,n,p)\n",
        "  p_sum=1-p_sum\n",
        "  return round(p_sum,5)"
      ],
      "metadata": {
        "id": "kGfswbAOWbHJ"
      },
      "execution_count": null,
      "outputs": []
    },
    {
      "cell_type": "code",
      "source": [
        "def at_most(k,n,p):\n",
        "  pro= binom.cdf(k,n,p)\n",
        "  return round(pro,5)\n",
        "\n",
        "def test_at_most(k,n,p):\n",
        "  p_sum=0\n",
        "  for i in range(0,k+1):\n",
        "    p_sum+=binom.pmf(i,n,p) \n",
        "  return round(p_sum,5)"
      ],
      "metadata": {
        "id": "2RNn14zHhUAJ"
      },
      "execution_count": null,
      "outputs": []
    },
    {
      "cell_type": "markdown",
      "source": [
        "## 1.Number of Side Effects from Medications\n",
        "  Suppose it is known that 5% of adults who take a certain medication experience negative side effects. To find the probability that more than a certain number of patients in a random sample of 100 will experience negative side effects.   \n",
        "To find P(X > 5 patients experience side effects)   \n"
      ],
      "metadata": {
        "id": "984o9AhnoFlX"
      }
    },
    {
      "cell_type": "code",
      "execution_count": null,
      "metadata": {
        "colab": {
          "base_uri": "https://localhost:8080/"
        },
        "id": "3eW_9DoPnp7J",
        "outputId": "0a20f926-c682-47b6-ed9e-4f047940f0c6"
      },
      "outputs": [
        {
          "output_type": "stream",
          "name": "stdout",
          "text": [
            "0.384\n"
          ]
        }
      ],
      "source": [
        "n=100\n",
        "k=5\n",
        "p=0.05\n",
        "print(more_than(k,n,p))"
      ]
    },
    {
      "cell_type": "code",
      "source": [
        "print(test_more_than(k,n,p))"
      ],
      "metadata": {
        "colab": {
          "base_uri": "https://localhost:8080/"
        },
        "id": "jWMe3h9AWmvl",
        "outputId": "0a94eaae-6c8d-4782-cd61-da71c921269f"
      },
      "execution_count": null,
      "outputs": [
        {
          "output_type": "stream",
          "name": "stdout",
          "text": [
            "0.384\n"
          ]
        }
      ]
    },
    {
      "cell_type": "code",
      "source": [
        "test.assert_equals(more_than(k,n,p), test_more_than(k,n,p), 'Test range failed')\n",
        "k=0\n",
        "test.assert_equals(more_than(k,n,p), test_more_than(k,n,p), 'Test k=0 failed')\n",
        "k=n\n",
        "test.assert_equals(more_than(k,n,p), test_more_than(k,n,p), 'Test k=n failed')"
      ],
      "metadata": {
        "colab": {
          "base_uri": "https://localhost:8080/"
        },
        "id": "RMyFnsgJXd1o",
        "outputId": "bba956bf-8d92-4404-9212-9c592eff8eae"
      },
      "execution_count": null,
      "outputs": [
        {
          "output_type": "stream",
          "name": "stdout",
          "text": [
            "\n",
            "<PASSED::>Test Passed\n",
            "\n",
            "<PASSED::>Test Passed\n",
            "\n",
            "<PASSED::>Test Passed\n"
          ]
        }
      ]
    },
    {
      "cell_type": "markdown",
      "source": [
        "## 2.Number of Fraudulent Transactions  \n",
        "Suppose it is known that 2% of all credit card transactions in a certain region are fraudulent. If there are 50 transactions per day in a certain region, to find the probability that more than a certain number of fraudulent transactions occur in a given day:  \n",
        "P(X > 1 fraudulent transaction)"
      ],
      "metadata": {
        "id": "rjQJtY1Yrjgt"
      }
    },
    {
      "cell_type": "code",
      "source": [
        "n=50\n",
        "k=1\n",
        "p=0.02\n",
        "print(more_than(k,n,p))\n",
        "print(test_more_than(k,n,p))"
      ],
      "metadata": {
        "colab": {
          "base_uri": "https://localhost:8080/"
        },
        "id": "BuVFPlFKuyzZ",
        "outputId": "6bcff1e8-47a2-467b-e4f2-fd47a61a759a"
      },
      "execution_count": null,
      "outputs": [
        {
          "output_type": "stream",
          "name": "stdout",
          "text": [
            "0.26423\n",
            "0.26423\n"
          ]
        }
      ]
    },
    {
      "cell_type": "code",
      "source": [
        "test.assert_equals(more_than(k,n,p), test_more_than(k,n,p), 'Test range failed')\n",
        "k=0\n",
        "test.assert_equals(more_than(k,n,p), test_more_than(k,n,p), 'Test k=0 failed')\n",
        "k=n\n",
        "test.assert_equals(more_than(k,n,p), test_more_than(k,n,p), 'Test failed')"
      ],
      "metadata": {
        "colab": {
          "base_uri": "https://localhost:8080/"
        },
        "id": "1pctfrAiburB",
        "outputId": "a5e5dd04-738c-441d-ba57-38eaf7c1eaa7"
      },
      "execution_count": null,
      "outputs": [
        {
          "output_type": "stream",
          "name": "stdout",
          "text": [
            "\n",
            "<PASSED::>Test Passed\n",
            "\n",
            "<PASSED::>Test Passed\n",
            "\n",
            "<PASSED::>Test Passed\n"
          ]
        }
      ]
    },
    {
      "cell_type": "markdown",
      "source": [
        "## 3.Number of Spam Emails per Day\n",
        "Suppose it is known that 4% of all emails are spam. If an account receives 20 emails in a given day, to find the probability that a certain number of those emails are spam:\n",
        "P(X = 0 spam emails)"
      ],
      "metadata": {
        "id": "EFRsnRk5vJ76"
      }
    },
    {
      "cell_type": "markdown",
      "source": [
        "$P(x=0) = {20 \\choose 0}0.04^00.96^{20-0} = \\frac{20!}{(20-0)!0!}0.04^00.96^{20-0}$."
      ],
      "metadata": {
        "id": "6QPneUKNokjV"
      }
    },
    {
      "cell_type": "code",
      "source": [
        "n=20\n",
        "k=0\n",
        "p=0.04\n",
        "print(exactly(k,n,p))\n",
        "print(test_exactly(k,n,p))"
      ],
      "metadata": {
        "colab": {
          "base_uri": "https://localhost:8080/"
        },
        "id": "m4tbfDLxvTD2",
        "outputId": "b163a3df-e72c-477f-cf22-4a00354b7b85"
      },
      "execution_count": null,
      "outputs": [
        {
          "output_type": "stream",
          "name": "stdout",
          "text": [
            "0.442\n",
            "0.442\n"
          ]
        }
      ]
    },
    {
      "cell_type": "code",
      "source": [
        "# When k =0\n",
        "test.assert_equals(exactly(k,n,p),test_exactly(k,n,p),'Test k=0 failed')\n",
        "# When k=n\n",
        "k=n\n",
        "test.assert_equals(exactly(k,n,p),test_exactly(k,n,p),'Test k=n failed')\n",
        "# When k between k and n\n",
        "k=3\n",
        "test.assert_equals(exactly(k,n,p),test_exactly(k,n,p),'Test range failed')"
      ],
      "metadata": {
        "colab": {
          "base_uri": "https://localhost:8080/"
        },
        "id": "jjPEr6E7h-0a",
        "outputId": "5831ed6c-bf4b-4ed0-9746-3933ba20807a"
      },
      "execution_count": null,
      "outputs": [
        {
          "output_type": "stream",
          "name": "stdout",
          "text": [
            "\n",
            "<PASSED::>Test Passed\n",
            "\n",
            "<PASSED::>Test Passed\n",
            "\n",
            "<PASSED::>Test Passed\n"
          ]
        }
      ]
    },
    {
      "cell_type": "markdown",
      "source": [
        "## 4.Number of River Overflows\n",
        "Suppose it is known that a given river overflows during 5% of all storms. If there are 20 storms in a given year, to find the probability that the river overflows a certain number of times:  \n",
        "P(X = 0 overflows)"
      ],
      "metadata": {
        "id": "k025Kyv9xm8U"
      }
    },
    {
      "cell_type": "code",
      "source": [
        "n=20\n",
        "k=0\n",
        "p=0.05\n",
        "print(exactly(k,n,p))\n",
        "print(test_exactly(k,n,p))"
      ],
      "metadata": {
        "colab": {
          "base_uri": "https://localhost:8080/"
        },
        "id": "gAciZkGYxyMO",
        "outputId": "b5de3c9a-4b25-4572-ffb2-c24578e06dc2"
      },
      "execution_count": null,
      "outputs": [
        {
          "output_type": "stream",
          "name": "stdout",
          "text": [
            "0.35849\n",
            "0.35849\n"
          ]
        }
      ]
    },
    {
      "cell_type": "code",
      "source": [
        "# When k =0\n",
        "test.assert_equals(exactly(k,n,p),test_exactly(k,n,p),'Test k=0 failed')\n",
        "# When k=n\n",
        "k=n\n",
        "test.assert_equals(exactly(k,n,p),test_exactly(k,n,p),'Test k=n failed')\n",
        "# When k between k and n\n",
        "k=3\n",
        "test.assert_equals(exactly(k,n,p),test_exactly(k,n,p),'Test range failed')"
      ],
      "metadata": {
        "colab": {
          "base_uri": "https://localhost:8080/"
        },
        "id": "JDwCV0YkkVSu",
        "outputId": "4d298bba-438b-4f70-9976-9e2a4d1daf35"
      },
      "execution_count": null,
      "outputs": [
        {
          "output_type": "stream",
          "name": "stdout",
          "text": [
            "\n",
            "<PASSED::>Test Passed\n",
            "\n",
            "<PASSED::>Test Passed\n",
            "\n",
            "<PASSED::>Test Passed\n"
          ]
        }
      ]
    },
    {
      "cell_type": "markdown",
      "source": [
        "## 5.Shopping Returns per Week\n",
        "Suppose it is known that 10% of all orders get returned at a certain store each week. If there are 50 orders that week, to find the probability that the store receives more than a certain number of returns that week:  \n",
        "P(X > 10 returns)"
      ],
      "metadata": {
        "id": "-SVnBRPyx4NP"
      }
    },
    {
      "cell_type": "code",
      "source": [
        "n=50\n",
        "k=10\n",
        "p=0.1\n",
        "print(more_than(k,n,p))\n",
        "print(test_more_than(k,n,p))"
      ],
      "metadata": {
        "colab": {
          "base_uri": "https://localhost:8080/"
        },
        "id": "exLNpQdax_fS",
        "outputId": "1ead2c4d-9fae-4a25-d9e3-d168fa010296"
      },
      "execution_count": null,
      "outputs": [
        {
          "output_type": "stream",
          "name": "stdout",
          "text": [
            "0.00935\n",
            "0.00935\n"
          ]
        }
      ]
    },
    {
      "cell_type": "code",
      "source": [
        "test.assert_equals(more_than(k,n,p),test_more_than(k,n,p),'Test range failed')\n",
        "k=0\n",
        "test.assert_equals(more_than(k,n,p),test_more_than(k,n,p),'Test range failed')\n",
        "k=n\n",
        "test.assert_equals(more_than(k,n,p),test_more_than(k,n,p),'Test range failed')"
      ],
      "metadata": {
        "colab": {
          "base_uri": "https://localhost:8080/"
        },
        "id": "Cv90-ZeJaL8H",
        "outputId": "c21297e9-a8b1-45da-dce0-3f95c23748ec"
      },
      "execution_count": null,
      "outputs": [
        {
          "output_type": "stream",
          "name": "stdout",
          "text": [
            "\n",
            "<PASSED::>Test Passed\n",
            "\n",
            "<PASSED::>Test Passed\n",
            "\n",
            "<PASSED::>Test Passed\n"
          ]
        }
      ]
    },
    {
      "cell_type": "markdown",
      "source": [
        "## 6.Supporting the law\n",
        "It is known that 70% of individuals support a certain law. If 10 individuals are randomly selected, what is the probability that between 4 and 6 of them support the law?"
      ],
      "metadata": {
        "id": "pKKuo9A2y9bd"
      }
    },
    {
      "cell_type": "code",
      "source": [
        "n=10\n",
        "c=4\n",
        "d=6\n",
        "p=0.7\n",
        "print(pro_range(c,d,n,p))\n",
        "print(test_pro_range(c,d,n,p))"
      ],
      "metadata": {
        "colab": {
          "base_uri": "https://localhost:8080/"
        },
        "id": "zXkP6zirXDwp",
        "outputId": "446d8350-d158-4ece-f34f-f69d6ae10171"
      },
      "execution_count": null,
      "outputs": [
        {
          "output_type": "stream",
          "name": "stdout",
          "text": [
            "0.3398\n",
            "0.3398\n"
          ]
        }
      ]
    },
    {
      "cell_type": "code",
      "source": [
        "test.assert_equals(pro_range(c,d,n,p),test_pro_range(c,d,n,p),'Test range failed')\n",
        "c=0\n",
        "d=0\n",
        "test.assert_equals(pro_range(c,d,n,p),test_pro_range(c,d,n,p),'Test c=d=0 failed')\n",
        "c=n\n",
        "d=n\n",
        "test.assert_equals(pro_range(c,d,n,p),test_pro_range(c,d,n,p),'Test c=d=n failed')"
      ],
      "metadata": {
        "colab": {
          "base_uri": "https://localhost:8080/"
        },
        "id": "Ps4XoN2tYY69",
        "outputId": "fb08b53c-e2eb-4f68-970d-7b18d4537d2d"
      },
      "execution_count": null,
      "outputs": [
        {
          "output_type": "stream",
          "name": "stdout",
          "text": [
            "\n",
            "<PASSED::>Test Passed\n",
            "\n",
            "<PASSED::>Test Passed\n",
            "\n",
            "<PASSED::>Test Passed\n"
          ]
        }
      ]
    },
    {
      "cell_type": "markdown",
      "source": [
        "## 7.If a coin is tossed 5 times, using binomial distribution find the probability of:  \n",
        "(a) At least 4 heads."
      ],
      "metadata": {
        "id": "G8U_HxtpSmd7"
      }
    },
    {
      "cell_type": "code",
      "source": [
        "n=5\n",
        "k=4\n",
        "p=0.5\n",
        "print(at_least(k,n,p))\n",
        "print(test_at_least(k,n,p))"
      ],
      "metadata": {
        "colab": {
          "base_uri": "https://localhost:8080/"
        },
        "id": "gse-5KoVbF5U",
        "outputId": "fd994972-43ba-4360-fc0b-a9a4da68204d"
      },
      "execution_count": null,
      "outputs": [
        {
          "output_type": "stream",
          "name": "stdout",
          "text": [
            "0.1875\n",
            "0.1875\n"
          ]
        }
      ]
    },
    {
      "cell_type": "code",
      "source": [
        "test.assert_equals(at_least(k,n,p),test_at_least(k,n,p),'Test range failed')\n",
        "k=0\n",
        "test.assert_equals(at_least(k,n,p),test_at_least(k,n,p),'Test k=0 failed')\n",
        "k=n\n",
        "test.assert_equals(at_least(k,n,p),test_at_least(k,n,p),'Test k=n failed')"
      ],
      "metadata": {
        "colab": {
          "base_uri": "https://localhost:8080/"
        },
        "id": "5ACEK94heebR",
        "outputId": "26421390-2bb6-4ca5-8d57-4531e74e225a"
      },
      "execution_count": null,
      "outputs": [
        {
          "output_type": "stream",
          "name": "stdout",
          "text": [
            "\n",
            "<PASSED::>Test Passed\n",
            "\n",
            "<PASSED::>Test Passed\n",
            "\n",
            "<PASSED::>Test Passed\n"
          ]
        }
      ]
    },
    {
      "cell_type": "markdown",
      "source": [
        "(b) At most 2 heads."
      ],
      "metadata": {
        "id": "a07KbjJaTAZL"
      }
    },
    {
      "cell_type": "code",
      "source": [
        "n=5\n",
        "k=2\n",
        "p=0.5\n",
        "print(at_most(k,n,p))\n",
        "print(test_at_most(k,n,p))"
      ],
      "metadata": {
        "colab": {
          "base_uri": "https://localhost:8080/"
        },
        "id": "Z3aWGuTXgLYw",
        "outputId": "50736306-16dc-4d14-a1b4-dcfc39cd27aa"
      },
      "execution_count": null,
      "outputs": [
        {
          "output_type": "stream",
          "name": "stdout",
          "text": [
            "0.5\n",
            "0.5\n"
          ]
        }
      ]
    },
    {
      "cell_type": "code",
      "source": [
        "test.assert_equals(at_most(k,n,p),test_at_most(k,n,p),'Test range failed')\n",
        "k=0\n",
        "test.assert_equals(at_most(k,n,p),test_at_most(k,n,p),'Test k=0 failed')\n",
        "k=n\n",
        "test.assert_equals(at_most(k,n,p),test_at_most(k,n,p),'Test k=n failed')"
      ],
      "metadata": {
        "colab": {
          "base_uri": "https://localhost:8080/"
        },
        "id": "qDBhcDgrPJjC",
        "outputId": "5e63c0e5-53e4-4dc9-c56f-76259c9bc0d2"
      },
      "execution_count": null,
      "outputs": [
        {
          "output_type": "stream",
          "name": "stdout",
          "text": [
            "\n",
            "<PASSED::>Test Passed\n",
            "\n",
            "<PASSED::>Test Passed\n",
            "\n",
            "<PASSED::>Test Passed\n"
          ]
        }
      ]
    }
  ]
}