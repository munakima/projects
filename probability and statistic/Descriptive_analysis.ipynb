{
  "nbformat": 4,
  "nbformat_minor": 0,
  "metadata": {
    "colab": {
      "provenance": []
    },
    "kernelspec": {
      "name": "python3",
      "display_name": "Python 3"
    },
    "language_info": {
      "name": "python"
    }
  },
  "cells": [
    {
      "cell_type": "code",
      "source": [
        "import matplotlib.pyplot as plt\n",
        "import seaborn as sns\n",
        "import pandas as pd\n",
        "import math\n",
        "import warnings\n",
        "import numpy as np\n",
        "\n",
        "warnings.filterwarnings('ignore')"
      ],
      "metadata": {
        "id": "vJyzWylYZR6k"
      },
      "execution_count": null,
      "outputs": []
    },
    {
      "cell_type": "code",
      "execution_count": null,
      "metadata": {
        "id": "8_Fl4ReND-zn"
      },
      "outputs": [],
      "source": [
        "student=[37,63,56 ,54, 39, 49, 55 ,114, 59, 55,\n",
        "\n",
        "54, 30, 107, 38, 51, 31, 19, 95, 87, 82,\n",
        "\n",
        "65, 38, 110, 57, 64, 105, 58, 55, 85, 35,\n",
        "\n",
        "64, 96, 43, 56, 41, 55, 50, 99, 105, 28,\n",
        "\n",
        "63, 76, 65, 77, 68, 55, 89, 66, 66, 74]"
      ]
    },
    {
      "cell_type": "code",
      "source": [
        "print(len(student))"
      ],
      "metadata": {
        "colab": {
          "base_uri": "https://localhost:8080/"
        },
        "id": "KpTcT8GBEeK4",
        "outputId": "aabd2cb9-d9d5-4190-9df7-90858b0a5e54"
      },
      "execution_count": null,
      "outputs": [
        {
          "output_type": "stream",
          "name": "stdout",
          "text": [
            "50\n"
          ]
        }
      ]
    },
    {
      "cell_type": "code",
      "source": [
        "cate=[]\n",
        "for i,v in enumerate(student):\n",
        "  num=math.floor(v/10)\n",
        "  a=[]\n",
        "  flag=False\n",
        "  if(num==1):\n",
        "    #cate['10-19']=i\n",
        "    a.append('10-19')\n",
        "    flag=True\n",
        "  elif(num==2):\n",
        "    a.append('20-29')\n",
        "    flag=True\n",
        "  elif(num==3):\n",
        "    a.append('30-39')\n",
        "    flag=True\n",
        "  elif(num==4):\n",
        "    a.append('40-49')\n",
        "    flag=True\n",
        "  elif(num==5):\n",
        "    a.append('50-59')\n",
        "    flag=True\n",
        "  elif(num==6):\n",
        "    a.append('60-69')\n",
        "    flag=True\n",
        "  elif(num==7):\n",
        "    a.append('70-79')\n",
        "    flag=True\n",
        "  elif(num==8):\n",
        "    a.append('80-89')\n",
        "    flag=True\n",
        "  elif(num==9):\n",
        "    a.append('90-99')\n",
        "    flag=True\n",
        "  elif(num==10):\n",
        "    a.append('100-109')\n",
        "    flag=True\n",
        "  elif(num==11):\n",
        "    a.append('110-119')\n",
        "    flag=True\n",
        "  if(flag==True):\n",
        "    a.append(i)\n",
        "    a.append(v)\n",
        "    cate.append(a)\n",
        "print(cate)\n",
        "print(len(cate))"
      ],
      "metadata": {
        "colab": {
          "base_uri": "https://localhost:8080/"
        },
        "id": "mcQY0O48EjBN",
        "outputId": "a968d516-0d7b-4a89-8282-70a7114a5a16"
      },
      "execution_count": null,
      "outputs": [
        {
          "output_type": "stream",
          "name": "stdout",
          "text": [
            "[['30-39', 0, 37], ['60-69', 1, 63], ['50-59', 2, 56], ['50-59', 3, 54], ['30-39', 4, 39], ['40-49', 5, 49], ['50-59', 6, 55], ['110-119', 7, 114], ['50-59', 8, 59], ['50-59', 9, 55], ['50-59', 10, 54], ['30-39', 11, 30], ['100-109', 12, 107], ['30-39', 13, 38], ['50-59', 14, 51], ['30-39', 15, 31], ['10-19', 16, 19], ['90-99', 17, 95], ['80-89', 18, 87], ['80-89', 19, 82], ['60-69', 20, 65], ['30-39', 21, 38], ['110-119', 22, 110], ['50-59', 23, 57], ['60-69', 24, 64], ['100-109', 25, 105], ['50-59', 26, 58], ['50-59', 27, 55], ['80-89', 28, 85], ['30-39', 29, 35], ['60-69', 30, 64], ['90-99', 31, 96], ['40-49', 32, 43], ['50-59', 33, 56], ['40-49', 34, 41], ['50-59', 35, 55], ['50-59', 36, 50], ['90-99', 37, 99], ['100-109', 38, 105], ['20-29', 39, 28], ['60-69', 40, 63], ['70-79', 41, 76], ['60-69', 42, 65], ['70-79', 43, 77], ['60-69', 44, 68], ['50-59', 45, 55], ['80-89', 46, 89], ['60-69', 47, 66], ['60-69', 48, 66], ['70-79', 49, 74]]\n",
            "50\n"
          ]
        }
      ]
    },
    {
      "cell_type": "code",
      "source": [
        "df=pd.DataFrame(cate,columns=['range','index','weight'])\n",
        "df=df.sort_values(by='range')\n",
        "most_range=df.range.value_counts()\n",
        "print(most_range)\n",
        "print('The percentage of the most range of weight is: {0}%'.format(round(max(most_range)/len(cate)*100)))\n"
      ],
      "metadata": {
        "colab": {
          "base_uri": "https://localhost:8080/"
        },
        "id": "N_sv44Y_HfAf",
        "outputId": "5d6a7364-ae2c-475e-afe1-e1062565f3df"
      },
      "execution_count": null,
      "outputs": [
        {
          "output_type": "stream",
          "name": "stdout",
          "text": [
            "50-59      14\n",
            "60-69       9\n",
            "30-39       7\n",
            "80-89       4\n",
            "100-109     3\n",
            "40-49       3\n",
            "70-79       3\n",
            "90-99       3\n",
            "110-119     2\n",
            "10-19       1\n",
            "20-29       1\n",
            "Name: range, dtype: int64\n",
            "The percentage of the most range of weight is: 28%\n"
          ]
        }
      ]
    },
    {
      "cell_type": "markdown",
      "source": [
        "The most common weight group with the highest frequency is 50-59 kg  which is 28%."
      ],
      "metadata": {
        "id": "d-e8Y9PFXNEm"
      }
    },
    {
      "cell_type": "code",
      "source": [
        "sns.displot(df.age)"
      ],
      "metadata": {
        "colab": {
          "base_uri": "https://localhost:8080/",
          "height": 386
        },
        "id": "vavq8mXgM8IM",
        "outputId": "222b4eb4-d3fd-46a6-e90a-28dfea048252"
      },
      "execution_count": null,
      "outputs": [
        {
          "output_type": "execute_result",
          "data": {
            "text/plain": [
              "<seaborn.axisgrid.FacetGrid at 0x7f74b2d60dd0>"
            ]
          },
          "metadata": {},
          "execution_count": 99
        },
        {
          "output_type": "display_data",
          "data": {
            "text/plain": [
              "<Figure size 360x360 with 1 Axes>"
            ],
            "image/png": "[encoded data removed]"
          },
          "metadata": {
            "needs_background": "light"
          }
        }
      ]
    },
    {
      "cell_type": "markdown",
      "source": [
        "# **Measures of Central Tendency**"
      ],
      "metadata": {
        "id": "lyInQqbdYrUL"
      }
    },
    {
      "cell_type": "markdown",
      "source": [
        "A measure of central tendency is a single value that represents the center point of a dataset.  \n",
        "There are three common measures of central tendency:\n",
        "\n",
        "- The mean\n",
        "- The median\n",
        "- The mode -- most frequently\n",
        "\n",
        "Real life scenarios  \n",
        "Mean:\n",
        "1. The average age of customers.  \n",
        "2. Budgeting for a house.  \n",
        "3. To calculate the mean salary of individuals in a certain field so that they can know what type of “average” salary to offer to new employees. \n",
        "\n",
        "Median: \n",
        "1. To calcualte how much insurance need to be able to provide to customers.  \n",
        "2. To find the typical home price.  \n",
        "3. To calculate the median salary om certaom fields so that they can find the middel salary.  \n",
        "\n",
        "Mode:  \n",
        "1. To find the most commonly occurring age, in order to know which age group uses their insurance the most.  \n",
        "2. To calculate the mode of the number of bedrooms per house in order to know how many bedrooms can expect to have in houses in a particular area\n",
        "3. To find the most common position of employees at a company.   \n",
        "\n",
        "When to use the mean, median, mode:  \n",
        "\n",
        "Mean: It is best to use the mean when the distribution of the data is fairly symmetrical and there are no outliers.  \n",
        "\n",
        "Median: It is best to use the median when the distribution of the data is either skewed or there are outliers present.  \n",
        "  - Skewed data: \n",
        "    1. Left-skewed(negative skewness): from left to right -- mean, median, mode, it is skewed to the right and the mean is on the right of the peak value\n",
        "    2. Right-skewed(positive skewness): from right to left -- mode, median, mean  \n",
        "    3. Zero-skew(no skew): symmetric distribution(normal distribution) -- mode = median = mean.\n",
        "\n",
        "\n"
      ],
      "metadata": {
        "id": "YGtpQ4meshLm"
      }
    },
    {
      "cell_type": "code",
      "source": [
        "df['weight'].describe()"
      ],
      "metadata": {
        "colab": {
          "base_uri": "https://localhost:8080/"
        },
        "id": "ALFamhAPLH9A",
        "outputId": "256eff1c-d8d7-42f9-aff6-3c68b31edc71"
      },
      "execution_count": null,
      "outputs": [
        {
          "output_type": "execute_result",
          "data": {
            "text/plain": [
              "count     50.000000\n",
              "mean      63.660000\n",
              "std       23.433458\n",
              "min       19.000000\n",
              "25%       50.250000\n",
              "50%       58.500000\n",
              "75%       76.750000\n",
              "max      114.000000\n",
              "Name: weight, dtype: float64"
            ]
          },
          "metadata": {},
          "execution_count": 102
        }
      ]
    },
    {
      "cell_type": "code",
      "source": [
        "tendency=[df['weight'].mean(),df['weight'].mode()[0],df['weight'].median()]\n",
        "\n",
        "print('The average of weight:',tendency[0])\n",
        "print('The mode of weight:',tendency[1])\n",
        "print('The median of weight:',tendency[2])"
      ],
      "metadata": {
        "colab": {
          "base_uri": "https://localhost:8080/"
        },
        "id": "17OIkK2eNh-6",
        "outputId": "49f3cb8f-ab34-4dcc-bec2-8e32896e5e0a"
      },
      "execution_count": null,
      "outputs": [
        {
          "output_type": "stream",
          "name": "stdout",
          "text": [
            "The average of weight: 63.66\n",
            "The mode of weight: 55\n",
            "The median of weight: 58.5\n"
          ]
        }
      ]
    },
    {
      "cell_type": "markdown",
      "source": [
        " The typical(mean) weight of the students is 63.66 kg."
      ],
      "metadata": {
        "id": "7vACmXNGYJ3_"
      }
    },
    {
      "cell_type": "code",
      "source": [
        "sns.distplot(df.weight, kde=False,bins=10)\n",
        "plt.axvline(tendency[0], color='r', linestyle='--', label=\"Mean\")\n",
        "plt.axvline(tendency[1], color='b', linestyle='-', label=\"Model\")\n",
        "plt.axvline(tendency[2], color='g', linestyle='-', label=\"median\")\n",
        "plt.legend()\n",
        "plt.show()"
      ],
      "metadata": {
        "colab": {
          "base_uri": "https://localhost:8080/",
          "height": 279
        },
        "id": "4ERa4w3pXCU-",
        "outputId": "37ba2f3a-e1c5-4b34-a45f-15fd019b6b2a"
      },
      "execution_count": null,
      "outputs": [
        {
          "output_type": "display_data",
          "data": {
            "text/plain": [
              "<Figure size 432x288 with 1 Axes>"
            ],
            "image/png": "[encoded data removed]"
          },
          "metadata": {
            "needs_background": "light"
          }
        }
      ]
    },
    {
      "cell_type": "markdown",
      "source": [
        "This is not a symmetrical distribution. That must be serval key factors effect the distribution. It is right skewed distribution or positive skewed. One feature of children have very low levels, but some have very high.\n",
        "\n",
        "\n",
        "When the variable of interest has a skewed distribution, the mean is no longer a good typical value. This is because the extreme values in the long tail drag the mean towards them. This happens because of the way the mean is calculated. Instead, we use another measure of central tendency – the median. To obtain the median, we simply sort all our observations in to size order, and take the middle one. This works fine for an odd number of observations. For an even number of observations, we take midpoint between the two middle ones."
      ],
      "metadata": {
        "id": "YQGobHlQaIYu"
      }
    },
    {
      "cell_type": "markdown",
      "source": [
        "The median of weight: 58.5"
      ],
      "metadata": {
        "id": "WGO5RYAzcTJU"
      }
    },
    {
      "cell_type": "markdown",
      "source": [
        "#**Measures of Dispersion**\n",
        "\n",
        "As well as knowing what a typical value is for a variable, we also like to know how spread-out the observations are around that typical value. In other words, are they tightly clustered around the mean, or very scattered. How “spread out” the values are. We measure “spread” using range, interquartile range, variance, and standard deviation. "
      ],
      "metadata": {
        "id": "xxPYZTVgdPPg"
      }
    },
    {
      "cell_type": "code",
      "source": [
        "print('The standard derivation is :', round(np.std(df['weight']),1))"
      ],
      "metadata": {
        "colab": {
          "base_uri": "https://localhost:8080/"
        },
        "id": "7QISb95eZQHr",
        "outputId": "bfc28c09-0c8b-4d09-e68d-2e9de1a57c16"
      },
      "execution_count": null,
      "outputs": [
        {
          "output_type": "stream",
          "name": "stdout",
          "text": [
            "The standard derivation is : 23.2\n"
          ]
        }
      ]
    },
    {
      "cell_type": "markdown",
      "source": [
        "The variance is the square of the standard deviation, and we will look at how that is calculated first."
      ],
      "metadata": {
        "id": "3wHPPBbkeIso"
      }
    },
    {
      "cell_type": "code",
      "source": [
        "print('The variance is :', round(np.var(df['weight']),1))"
      ],
      "metadata": {
        "colab": {
          "base_uri": "https://localhost:8080/"
        },
        "id": "Z5YzqCtBQ20X",
        "outputId": "3d2279c1-b960-4bcd-93c9-8f93c6aae53c"
      },
      "execution_count": null,
      "outputs": [
        {
          "output_type": "stream",
          "name": "stdout",
          "text": [
            "The variance is : 538.1\n"
          ]
        }
      ]
    },
    {
      "cell_type": "markdown",
      "source": [
        "##The range and Interquartile range\n",
        "Range and interquartile range (IQR) both measure the \"spread\" in a data set. Looking at spread lets us see how much data varies. Range is a quick way to get an idea of spread. It takes longer to find the IQR, but it sometimes gives us more useful information about spread."
      ],
      "metadata": {
        "id": "fXS0TpeffYze"
      }
    },
    {
      "cell_type": "markdown",
      "source": [
        "###The range\n",
        "The range represents how far apart the lowest and the highest value.  \n",
        "range=max−min"
      ],
      "metadata": {
        "id": "wThkq8xUi_f9"
      }
    },
    {
      "cell_type": "code",
      "source": [
        "range=max(df['weight'])-min(df['weight'])\n",
        "print('The range of weight is:',range)"
      ],
      "metadata": {
        "colab": {
          "base_uri": "https://localhost:8080/"
        },
        "id": "_Mc8PtstjHoF",
        "outputId": "3154142b-85d8-4ec1-8c1c-43cc1ddc3ada"
      },
      "execution_count": null,
      "outputs": [
        {
          "output_type": "stream",
          "name": "stdout",
          "text": [
            "The range of weight is: 95\n"
          ]
        }
      ]
    },
    {
      "cell_type": "markdown",
      "source": [
        "The amount of variability of weight in this case is 95."
      ],
      "metadata": {
        "id": "eiQnYqAvjHZz"
      }
    },
    {
      "cell_type": "markdown",
      "source": [
        "###The interquartile range (IQR)\n",
        "The IQR approximates the amount of spread in the middle half of the data.\n",
        "1. Sorting the list.\n",
        "2. Finding the median of list which refered to as Q2.\n",
        "3. Diving the list into two list.\n",
        "4. We calculate the median of two lists respectively, whose results are called Q1 and Q3."
      ],
      "metadata": {
        "id": "TEOxfxaSkowp"
      }
    },
    {
      "cell_type": "code",
      "source": [
        "def count_iqr(data):\n",
        "  Q2=np.median(data)\n",
        "  before_half_list=data[0:round(len(data)/2)-1]\n",
        "  after_half_list=data[round(len(data)/2):len(data)]\n",
        "  Q1=np.median(before_half_list)\n",
        "  Q3=np.median(after_half_list)\n",
        "  IQR=Q3-Q1\n",
        "  return Q1,Q2,Q3,IQR"
      ],
      "metadata": {
        "id": "K14EiLzNlhQP"
      },
      "execution_count": null,
      "outputs": []
    },
    {
      "cell_type": "code",
      "source": [
        "data=df.sort_values(by='weight')\n",
        "print(count_iqr(data['weight']))"
      ],
      "metadata": {
        "colab": {
          "base_uri": "https://localhost:8080/"
        },
        "id": "N_B7fm4xkoIS",
        "outputId": "af6d5949-e156-4de7-aa3b-7dd99b125051"
      },
      "execution_count": null,
      "outputs": [
        {
          "output_type": "stream",
          "name": "stdout",
          "text": [
            "<class 'pandas.core.series.Series'>\n",
            "(49.5, 58.5, 77.0, 27.5)\n"
          ]
        }
      ]
    },
    {
      "cell_type": "markdown",
      "source": [
        "The IQR is 27.5."
      ],
      "metadata": {
        "id": "iQ1qwNuSsj-k"
      }
    },
    {
      "cell_type": "code",
      "source": [
        "plt.boxplot(df['weight'])"
      ],
      "metadata": {
        "colab": {
          "base_uri": "https://localhost:8080/",
          "height": 404
        },
        "id": "-yAtSxmiqEx_",
        "outputId": "d6643aec-ebe8-47b9-bba7-ccdef58345ee"
      },
      "execution_count": null,
      "outputs": [
        {
          "output_type": "execute_result",
          "data": {
            "text/plain": [
              "{'boxes': [<matplotlib.lines.Line2D at 0x7f74b2086950>],\n",
              " 'caps': [<matplotlib.lines.Line2D at 0x7f74b208b9d0>,\n",
              "  <matplotlib.lines.Line2D at 0x7f74b208bf10>],\n",
              " 'fliers': [<matplotlib.lines.Line2D at 0x7f74b2092a10>],\n",
              " 'means': [],\n",
              " 'medians': [<matplotlib.lines.Line2D at 0x7f74b20924d0>],\n",
              " 'whiskers': [<matplotlib.lines.Line2D at 0x7f74b2086f10>,\n",
              "  <matplotlib.lines.Line2D at 0x7f74b2086c50>]}"
            ]
          },
          "metadata": {},
          "execution_count": 166
        },
        {
          "output_type": "display_data",
          "data": {
            "text/plain": [
              "<Figure size 432x288 with 1 Axes>"
            ],
            "image/png": "[encoded data removed]"
          },
          "metadata": {
            "needs_background": "light"
          }
        }
      ]
    },
    {
      "cell_type": "markdown",
      "source": [
        "###Comparing range and IQR"
      ],
      "metadata": {
        "id": "0lvGAqwDtEZD"
      }
    },
    {
      "cell_type": "markdown",
      "source": [
        "The low outlier in the weight has a large impact on the range of that data set, while IQR is not impacted by the outlier."
      ],
      "metadata": {
        "id": "4CcrayZJwmzd"
      }
    },
    {
      "cell_type": "code",
      "source": [
        "sort_df=df.sort_values(by='weight')\n",
        "range=max(df['weight'])-sort_df.iloc[1].weight\n",
        "print('The range of weight is:',range)"
      ],
      "metadata": {
        "colab": {
          "base_uri": "https://localhost:8080/"
        },
        "id": "B0B7J2HMwmCW",
        "outputId": "f5784b00-6b92-4b3a-899a-3f64bd56fa6f"
      },
      "execution_count": null,
      "outputs": [
        {
          "output_type": "stream",
          "name": "stdout",
          "text": [
            "The range of weight is: 86\n"
          ]
        }
      ]
    },
    {
      "cell_type": "markdown",
      "source": [
        "The original range of weight is 95, compared with removing low outlier which is reduce by 9."
      ],
      "metadata": {
        "id": "ATGuTruezHL5"
      }
    },
    {
      "cell_type": "code",
      "source": [
        "remove_outlier_df=data['weight'][1:len(data['weight'])]\n",
        "print(count_iqr(data['weight']))"
      ],
      "metadata": {
        "colab": {
          "base_uri": "https://localhost:8080/"
        },
        "id": "zO1YCcvQxXYV",
        "outputId": "60b55ace-c6c0-4abd-ecde-bfdeb66fbda6"
      },
      "execution_count": null,
      "outputs": [
        {
          "output_type": "stream",
          "name": "stdout",
          "text": [
            "(49.5, 58.5, 77.0, 27.5)\n"
          ]
        }
      ]
    },
    {
      "cell_type": "markdown",
      "source": [
        "The IQR before removing the low outlier: 27.5   \n",
        "The IQR without removing the low outlier: 27.5   \n",
        "The IQR before removing or without removing the low outlier which is not impacted by the outlier."
      ],
      "metadata": {
        "id": "x7WghVUP1k8W"
      }
    },
    {
      "cell_type": "code",
      "source": [
        "plt.scatter(df['weight'],df['weight'])"
      ],
      "metadata": {
        "colab": {
          "base_uri": "https://localhost:8080/",
          "height": 282
        },
        "id": "prVJatTPtuXt",
        "outputId": "d876764e-b298-469b-afc0-9a15b9bc0deb"
      },
      "execution_count": null,
      "outputs": [
        {
          "output_type": "execute_result",
          "data": {
            "text/plain": [
              "<matplotlib.collections.PathCollection at 0x7f74b1e73c50>"
            ]
          },
          "metadata": {},
          "execution_count": 171
        },
        {
          "output_type": "display_data",
          "data": {
            "text/plain": [
              "<Figure size 432x288 with 1 Axes>"
            ],
            "image/png": "[encoded data removed]"
          },
          "metadata": {
            "needs_background": "light"
          }
        }
      ]
    }
  ]
}