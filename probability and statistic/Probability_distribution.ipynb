{
  "nbformat": 4,
  "nbformat_minor": 0,
  "metadata": {
    "colab": {
      "provenance": []
    },
    "kernelspec": {
      "name": "python3",
      "display_name": "Python 3"
    },
    "language_info": {
      "name": "python"
    },
    "accelerator": "GPU",
    "gpuClass": "standard"
  },
  "cells": [
    {
      "cell_type": "markdown",
      "source": [
        "# Probability distribution"
      ],
      "metadata": {
        "id": "ipIZWhDSOdSM"
      }
    },
    {
      "cell_type": "markdown",
      "source": [
        "## The cumulative distribution function(CDF):  \n",
        "  \n",
        "    F(x)=P(X≤x)  "
      ],
      "metadata": {
        "id": "_bcZBZxUPAIp"
      }
    },
    {
      "cell_type": "markdown",
      "source": [
        "### Probability Density Function(continuous random variables):     \n",
        "    \n",
        "    f(x) = d/dx (F(x)) where F(x) = ∫^x_-∞ f(u)du   \n",
        "\n",
        "  Determining the probability of lying between any two exact values (a, b):  \n",
        "    \n",
        "    P(a≤x≤b)=F(b)−F(a), where b > a   \n",
        "\n",
        "  The probability density is the derivative of the cumulative distribution function:  \n",
        "    \n",
        "    p(x) = F′(x)  \n",
        "    \n",
        "  <img src='https://drive.google.com/uc?id=1Lo8r7AGKHUk8U_Xf1TBq7FhLRxPxwtGm'> \n",
        "#### 1.The Uniform distribution   X∼U(a, b) \n",
        "The uniform distribution is a probability distribution in which every value between an interval from a to b is equally likely to occur.\n",
        "\n",
        "If a random variable X follows a uniform distribution, then the probability that X takes on a value between x1 and x2 can be found by the following formula:\n",
        "\n",
        "P(x1 < X < x2) = (x2 – x1) / (b – a)   \n",
        "f(x)= 1 / (b – a) for a<=x<=b  \n",
        "  - Probability Distribution Function:  \n",
        "          F(x) = P (X ≤ x) = 0       for x<a\n",
        "                       (x-a)/(b-a)  for a<=x<=b\n",
        "                       1       for x>b\n",
        "    e.g, X can be in range (a, b) or [a, b]   \n",
        "       P(c<=x<=d)=(d-c)/(b-a),  X range is [c,d], c can be a.   \n",
        "  <img src='https://drive.google.com/uc?id=1zs4ze4-HubohjrdCvUJMU5evlef5RLLw'>  \n",
        "   - The standard uniform distribution   X∼U(0,1)\n",
        "\n",
        "  - Probability density Function: \n",
        "          P=(X=x)=f(x)= 1/(b-a)   for a<=x<=b\n",
        "                  0     for x<a or x>b \n",
        "  <img src='https://drive.google.com/uc?id=1LjSVlIgguYEX_DeUcm50rpmb2VuOUha1'>  \n",
        "  Mean: 1/2(a+b) \n",
        "\n",
        "  The formula for a discrete uniform distribution is   \n",
        "  P=1/n    \n",
        "  \n",
        "  Example in real life(all cases can be considered \"fair\" ).   \n",
        "  1. Birthday. The probability:  1/365   \n",
        "  2. Rolling a Die. The probability:  1/6   \n",
        "\n",
        "For example, suppose the weight of dolphins is uniformly distributed between 100 pounds and 150 pounds.   \n",
        "If we randomly select a dolphin at random, we can use the formula above to determine the probability that the chosen dolphin will weigh between 120 and 130 pounds:\n",
        "\n",
        "P(120 < X < 130) = (130 – 120) / (150 – 100) = 10 / 50 = 0.2   \n",
        "\n",
        "\n"
      ],
      "metadata": {
        "id": "SnGNRHTLSC4x"
      }
    },
    {
      "cell_type": "markdown",
      "source": [
        "The uniform distribution has the following properties:\n",
        "\n",
        "Mean: (a + b) / 2   \n",
        "Median: (a + b) / 2    \n",
        "Standard Deviation: $ \\sqrt{(b-a)^2/12}$    \n",
        "Variance: $(b – a)^2 / 12$  "
      ],
      "metadata": {
        "id": "VwfzfCkv-rHP"
      }
    },
    {
      "cell_type": "code",
      "source": [
        "import  pandas as pd\n",
        "import seaborn as sns\n",
        "from scipy.stats import uniform\n",
        "import numpy as np \n",
        "n = 10000\n",
        "start = 10\n",
        "width = 20\n",
        "uniform_data = uniform.rvs(size=n,\n",
        "                 loc=start, #from 0\n",
        "                 scale=width #to 10\n",
        "                 )\n",
        "\n",
        "pd.DataFrame(uniform_data).plot(kind='density')"
      ],
      "metadata": {
        "colab": {
          "base_uri": "https://localhost:8080/",
          "height": 282
        },
        "id": "g7uwbhkjqNWf",
        "outputId": "219f8571-9632-459d-f8df-a5b99842da75"
      },
      "execution_count": null,
      "outputs": [
        {
          "output_type": "execute_result",
          "data": {
            "text/plain": [
              "<matplotlib.axes._subplots.AxesSubplot at 0x7fac57596ed0>"
            ]
          },
          "metadata": {},
          "execution_count": 26
        },
        {
          "output_type": "display_data",
          "data": {
            "text/plain": [
              "<Figure size 432x288 with 1 Axes>"
            ],
            "image/png": "[encoded data removed]"
          },
          "metadata": {
            "needs_background": "light"
          }
        }
      ]
    },
    {
      "cell_type": "markdown",
      "source": [
        "probability of value between 0 and 2.5."
      ],
      "metadata": {
        "id": "lFuBDOlBj2zA"
      }
    },
    {
      "cell_type": "code",
      "source": [
        "print(uniform.cdf(x=2.5,loc=0, scale=10) )"
      ],
      "metadata": {
        "colab": {
          "base_uri": "https://localhost:8080/"
        },
        "id": "R49HZfbfheQy",
        "outputId": "ef0e1ca5-5386-40d2-f5c9-5466781f4e2e"
      },
      "execution_count": null,
      "outputs": [
        {
          "output_type": "stream",
          "name": "stdout",
          "text": [
            "0.25\n"
          ]
        }
      ]
    },
    {
      "cell_type": "markdown",
      "source": [
        "Example 1\n",
        "Suppose a bus shows up at a bus stop every 20 minutes. If you arrive at the bus stop, what is the probability that the bus will show up in 8 minutes or less?   \n",
        "x<=8"
      ],
      "metadata": {
        "id": "pMN4n-rauIcs"
      }
    },
    {
      "cell_type": "code",
      "source": [
        "uniform.cdf(x=8, loc=0, scale=20) - uniform.cdf(x=0, loc=0, scale=20)"
      ],
      "metadata": {
        "colab": {
          "base_uri": "https://localhost:8080/"
        },
        "id": "mK4YHDCLklBg",
        "outputId": "2b6f54f8-48e0-4bfd-e26d-20231ed1bb68"
      },
      "execution_count": null,
      "outputs": [
        {
          "output_type": "execute_result",
          "data": {
            "text/plain": [
              "0.4"
            ]
          },
          "metadata": {},
          "execution_count": 39
        }
      ]
    },
    {
      "cell_type": "markdown",
      "source": [
        "Example 2\n",
        "The weight of a certain species of frog is uniformly distributed between 15 and 25 grams. If you randomly select a frog, what is the probability that the frog weighs between 17 and 19 grams?   \n",
        "c=17, d=19, a=15, scale=25-15"
      ],
      "metadata": {
        "id": "gVf51WaauM1E"
      }
    },
    {
      "cell_type": "code",
      "source": [
        "uniform.cdf(x=19, loc=15, scale=10) - uniform.cdf(x=17, loc=15, scale=10)"
      ],
      "metadata": {
        "colab": {
          "base_uri": "https://localhost:8080/"
        },
        "id": "Hh2uFgK_uNFs",
        "outputId": "72e8d0d5-f1fe-4447-ed64-ef7b95c83418"
      },
      "execution_count": null,
      "outputs": [
        {
          "output_type": "execute_result",
          "data": {
            "text/plain": [
              "0.2"
            ]
          },
          "metadata": {},
          "execution_count": 40
        }
      ]
    },
    {
      "cell_type": "markdown",
      "source": [
        "Example 3\n",
        "The length of an NBA game is uniformly distributed between 120 and 170 minutes. What is the probability that a randomly selected NBA game lasts more than 150 minutes?    \n",
        "x>150"
      ],
      "metadata": {
        "id": "NYGaA5ucvCFZ"
      }
    },
    {
      "cell_type": "code",
      "source": [
        "uniform.cdf(x=170, loc=120, scale=50) - uniform.cdf(x=150, loc=120, scale=50)\n"
      ],
      "metadata": {
        "colab": {
          "base_uri": "https://localhost:8080/"
        },
        "id": "W6IdwAnYvCVC",
        "outputId": "d48a590d-6644-45ca-c623-c19c75422a98"
      },
      "execution_count": null,
      "outputs": [
        {
          "output_type": "execute_result",
          "data": {
            "text/plain": [
              "0.4"
            ]
          },
          "metadata": {},
          "execution_count": 41
        }
      ]
    },
    {
      "cell_type": "markdown",
      "source": [
        "For example, suppose the weight of dolphins is uniformly distributed between 100 pounds and 150 pounds.\n",
        "\n",
        "We could calculate the following properties for this distribution:   \n",
        "- Mean weight: (a + b) / 2 = (150 + 100) / 2 = 125\n",
        "- Median weight: (a + b) / 2 = (150 + 100) / 2 = 125\n",
        "- Standard Deviation of weight: $ \\sqrt{(150-100)^2/12}$ = 14.43\n",
        "- Variance of weight: $(150 – 100^2 / 12 = 208.33$"
      ],
      "metadata": {
        "id": "k2g_ZoQH_hK5"
      }
    },
    {
      "cell_type": "markdown",
      "source": [
        "#### 2.The Normal Distribution  X∼Poisson(λ)  "
      ],
      "metadata": {
        "id": "38DY_XfX3pEx"
      }
    },
    {
      "cell_type": "markdown",
      "source": [
        "Normal distributions have the following features:\n",
        "\n",
        "- Bell shape\n",
        "- Symmetrical\n",
        "- Mean and median are equal; both are located at the center of the distribution\n",
        "- And the Empirical Rule\n",
        "  - About 68% of data falls within one standard deviation of the mean\n",
        "  - About 95% of data falls within two standard deviations of the mean\n",
        "  - About 99.7% of data falls within three standard deviations of the mean   \n",
        "\n",
        "How to Draw a Normal Curve  \n",
        "mean of μ=70, σ = 2    \n",
        "Step 1: Sketch a normal curve.\n",
        "\n",
        "Step 2: The mean of 70 inches goes in the middle.\n",
        "\n",
        "Step 3: Each standard deviation is a distance of 2 inches   \n",
        "\n",
        "<img src='https://drive.google.com/uc?id=1sDmgHAJmKRsF6EqYYEn1VzLSsdbYVRVa'> "
      ],
      "metadata": {
        "id": "iL7yClqe3dbf"
      }
    },
    {
      "cell_type": "markdown",
      "source": [
        "### Probability mass Function(PMF)(discrete random variables):  \n",
        "    f(x)=P(X=xi) where F(x)=sum(P(X=xi)) \n",
        "<img src='https://drive.google.com/uc?id=1Tn_dwDeUwBAKrL_QeFyDrjkHKYzL53RJ'>  "
      ],
      "metadata": {
        "id": "L93su_nYOmB1"
      }
    },
    {
      "cell_type": "markdown",
      "source": [
        "#### 1.Bernoulli distribution  X∼Bernoulli(p) \n",
        "The outcome of a Bernoulli trial can either be 0 or 1. \n",
        "  - Probability Distribution Function:  \n",
        "          F(x) = P (X ≤ x) = 1-p   if x=0\n",
        "                        p    if x=1   \n",
        "  \n",
        "  $P(x)=p^n(1-p)^{1-n} $\n",
        "  <img src='https://drive.google.com/uc?id=1OgWw-BBiK0v757yCSSb-rn8dAuxnSKPm'>\n",
        "  - Probability Mass Function: \n",
        "          P=(X=x): if success, P(x;p) = p   1  \n",
        "               if fail, P(x;p) = 1-p   0\n",
        "  <img src='https://drive.google.com/uc?id=1g-0wwmzFastPzF9T4afGQMgsI7Yc9lq6'>   \n",
        "  mean: np     "
      ],
      "metadata": {
        "id": "3zonyaJgo9BW"
      }
    },
    {
      "cell_type": "code",
      "source": [
        "from scipy.stats import bernoulli\n",
        "import matplotlib.pyplot as plt\n",
        "B = bernoulli.rvs(p=0.2,size=10)\n",
        "X=[0,1]\n",
        "r=bernoulli(p=0.2)\n",
        "print(B )\n",
        "print(r.pmf(X))\n",
        "_=plt.hist(B)\n",
        "plt.grid()\n",
        "plt.show()"
      ],
      "metadata": {
        "colab": {
          "base_uri": "https://localhost:8080/",
          "height": 300
        },
        "id": "lr9TKOXNb0Gh",
        "outputId": "891d1751-3312-40be-860d-8f0d4e61cc20"
      },
      "execution_count": null,
      "outputs": [
        {
          "output_type": "stream",
          "name": "stdout",
          "text": [
            "[0 0 0 0 0 0 0 1 0 0]\n",
            "[0.8 0.2]\n"
          ]
        },
        {
          "output_type": "display_data",
          "data": {
            "text/plain": [
              "<Figure size 432x288 with 1 Axes>"
            ],
            "image/png": "[encoded data removed]"
          },
          "metadata": {
            "needs_background": "light"
          }
        }
      ]
    },
    {
      "cell_type": "markdown",
      "source": [
        "#### 2.Binomial Distribution  X∼Bin(n,p)  \n",
        "two outcomes, i.e, success (with probability p) and failure (with probability 1 - p).  \n",
        "  - Probability Distribution Function:  \n",
        "          F(x) = P (X ≤ x)=F(x;p,n)=sum(^n_i)p^i * (1-p)^(n-i)  \n",
        "  - Probability Mass Function: \n",
        "          P=(X=x)=P(x;p,n)=$(C^n_x)p^x * (1-p)^(n-x)$ \n",
        "          (C^n_x)=n!/x!(n-x)! \n"
      ],
      "metadata": {
        "id": "Qm_VE30Gbi5n"
      }
    },
    {
      "cell_type": "markdown",
      "source": [
        "e.g, an experiment that occurs 12 times (n = 12), number of outcomes in question is 5 (k = 5), and probability is 1/6 or 0.17 rounded (p = 0.17)."
      ],
      "metadata": {
        "id": "LIcMqcsJSGC1"
      }
    },
    {
      "cell_type": "code",
      "source": [
        "import numpy as np\n",
        "import matplotlib.pyplot as plt\n",
        "from scipy.stats import binom"
      ],
      "metadata": {
        "id": "h2LNwB4WRHnU"
      },
      "execution_count": null,
      "outputs": []
    },
    {
      "cell_type": "markdown",
      "source": [
        "The probability of getting any number from 1 to 6 exactly 5 times is:"
      ],
      "metadata": {
        "id": "azDxVh5tWoPT"
      }
    },
    {
      "cell_type": "code",
      "source": [
        "n=12\n",
        "k=5\n",
        "p=0.17\n",
        "x=np.arange(0, n+1)\n",
        "binomial_pmf = binom.pmf(k, n, p)\n",
        "\n",
        "print(binomial_pmf)"
      ],
      "metadata": {
        "colab": {
          "base_uri": "https://localhost:8080/"
        },
        "id": "4T6YXQzXWd-O",
        "outputId": "00ff2d92-a171-4154-a910-a1bac91dbf46"
      },
      "execution_count": null,
      "outputs": [
        {
          "output_type": "stream",
          "name": "stdout",
          "text": [
            "0.03051521506438324\n"
          ]
        }
      ]
    },
    {
      "cell_type": "markdown",
      "source": [
        "exactly k or fewer."
      ],
      "metadata": {
        "id": "stfaMerQmC5s"
      }
    },
    {
      "cell_type": "code",
      "source": [
        "n=100\n",
        "k=5\n",
        "p=0.05\n",
        "b=binom.cdf(k, n, p)\n",
        "print(b)"
      ],
      "metadata": {
        "colab": {
          "base_uri": "https://localhost:8080/"
        },
        "id": "rBPXxD4hiYym",
        "outputId": "89a554d1-da23-4ce2-cbfd-c45d2a4019bf"
      },
      "execution_count": null,
      "outputs": [
        {
          "output_type": "stream",
          "name": "stdout",
          "text": [
            "0.6159991279561405\n"
          ]
        }
      ]
    },
    {
      "cell_type": "markdown",
      "source": [
        "More than k."
      ],
      "metadata": {
        "id": "nPdJs9xBmkoa"
      }
    },
    {
      "cell_type": "code",
      "source": [
        "n=100\n",
        "k=5\n",
        "p=0.05\n",
        "prob = 1 - binom.cdf(10, n, p)\n",
        "print(prob)"
      ],
      "metadata": {
        "colab": {
          "base_uri": "https://localhost:8080/"
        },
        "id": "yV0bANg9mhNq",
        "outputId": "05f8d740-f385-40dd-8d03-e0390aadb88c"
      },
      "execution_count": null,
      "outputs": [
        {
          "output_type": "stream",
          "name": "stdout",
          "text": [
            "0.011472410067484784\n"
          ]
        }
      ]
    },
    {
      "cell_type": "markdown",
      "source": [
        "The probabilities for x(from 0 to 12) values are:"
      ],
      "metadata": {
        "id": "MuOnos_dfMtU"
      }
    },
    {
      "cell_type": "code",
      "source": [
        "n=12\n",
        "p=0.17\n",
        "x=np.arange(0, n+1)"
      ],
      "metadata": {
        "id": "nAjn0Ak3SMPK"
      },
      "execution_count": null,
      "outputs": []
    },
    {
      "cell_type": "code",
      "source": [
        "binomial_pmf = binom.pmf(x, n, p)\n",
        "\n",
        "print(binomial_pmf)"
      ],
      "metadata": {
        "colab": {
          "base_uri": "https://localhost:8080/"
        },
        "id": "r_VI_jAiSzDh",
        "outputId": "6d8f2f12-5e24-41a9-aa54-381228bbf84d"
      },
      "execution_count": null,
      "outputs": [
        {
          "output_type": "stream",
          "name": "stdout",
          "text": [
            "[1.06890008e-01 2.62717609e-01 2.95952970e-01 2.02056244e-01\n",
            " 9.31162813e-02 3.05152151e-02 7.29178834e-03 1.28014184e-03\n",
            " 1.63873579e-04 1.49175414e-05 9.16620011e-07 3.41348087e-08\n",
            " 5.82622237e-10]\n"
          ]
        }
      ]
    },
    {
      "cell_type": "markdown",
      "source": [
        "The binomial probability mass function can be visualize as following:"
      ],
      "metadata": {
        "id": "eWptemngf2BA"
      }
    },
    {
      "cell_type": "code",
      "source": [
        "plt.plot(x, binomial_pmf, color='blue')\n",
        "plt.title(f\"Binomial Distribution (n={n}, p={p})\")\n",
        "plt.show()"
      ],
      "metadata": {
        "colab": {
          "base_uri": "https://localhost:8080/",
          "height": 281
        },
        "id": "bvpLDK6MS5Dp",
        "outputId": "54fdeaa1-4af4-4811-c9ee-e9e3c66e50d9"
      },
      "execution_count": null,
      "outputs": [
        {
          "output_type": "display_data",
          "data": {
            "text/plain": [
              "<Figure size 432x288 with 1 Axes>"
            ],
            "image/png": "[encoded data removed]"
          },
          "metadata": {
            "needs_background": "light"
          }
        }
      ]
    },
    {
      "cell_type": "markdown",
      "source": [
        "- If rolling the die 12 times, the highest probability for any of those numbers to be observed is 2 times. \n",
        "\n",
        "[Binomial Distribution Calculator online](https://www.statology.org/binomial-distribution-calculator/)"
      ],
      "metadata": {
        "id": "-LBLN6PFTEpU"
      }
    },
    {
      "cell_type": "markdown",
      "source": [
        "The mean of the distribution is: $ μ=np$    \n",
        "The variance of the distribution is: $ σ^2=np(1-p)$    \n",
        "The standard deviation of the distribution is: $ σ= \\sqrt {np(1-p)}$   \n",
        "\n",
        "For example, suppose we toss a coin 3 times. Let p = the probability the coin lands on heads.    \n",
        "The mean number of heads we would expect is μ = np = 3*.5 = 1.5.    \n",
        "The variance in the number of heads we would expect is σ2 = np(1-p) = 3*.5*(1-.5) = 0.75."
      ],
      "metadata": {
        "id": "TLyTWq0OwuSF"
      }
    },
    {
      "cell_type": "markdown",
      "source": [
        "#### 3.Poisson Distribution  X∼Poisson(λ)   \n",
        "It models the probability that a given number of events will occur within an interval of time independently and at a constant mean rate.  \n",
        "  - Probability Distribution Function:\n",
        "P=(X=x)=p(x;λ)=$ \\sum_{i=1}^n \\frac{e^{-λ}λ^i }{k!}$     \n",
        "\n",
        "  \n",
        "  - Probability Mass Function:  \n",
        "\n",
        "  P=(X=x)=p(x;λ)=$ \\frac{e^{-λ}λ^k }{k!}$ \n",
        "\n",
        "  where    \n",
        "  x=0,1,2,3,...   \n",
        "  λ= mean number of occurrences in the interval  \n",
        "  e= Euler´s constant≈ 2.71828   \n",
        "       \n",
        "\n",
        "  We represent the pmf in two ways, probability mass function table and graph(histogram) "
      ],
      "metadata": {
        "id": "h4ysntzabyEl"
      }
    },
    {
      "cell_type": "code",
      "source": [
        "from scipy.stats import poisson\n",
        "import pandas as pd\n",
        "import matplotlib.pyplot as plt\n",
        "data_poisson = poisson.rvs(mu=3, size=10000)\n",
        "df=pd.DataFrame(data_poisson)\n",
        "pd.DataFrame(data_poisson).plot(kind='hist',bins=30,title='Uniform Distribution')\n"
      ],
      "metadata": {
        "colab": {
          "base_uri": "https://localhost:8080/",
          "height": 298
        },
        "id": "vEdVbiulwVnC",
        "outputId": "3891d623-e235-46a1-dcff-2c9b35ba5cec"
      },
      "execution_count": null,
      "outputs": [
        {
          "output_type": "execute_result",
          "data": {
            "text/plain": [
              "<matplotlib.axes._subplots.AxesSubplot at 0x7f6074577290>"
            ]
          },
          "metadata": {},
          "execution_count": 2
        },
        {
          "output_type": "display_data",
          "data": {
            "text/plain": [
              "<Figure size 432x288 with 1 Axes>"
            ],
            "image/png": "[encoded data removed]"
          },
          "metadata": {
            "needs_background": "light"
          }
        }
      ]
    },
    {
      "cell_type": "markdown",
      "source": [
        "Example 1: Probability Equal to Some Value\n",
        "\n",
        "A store sells 3 apples per day on average. What is the probability that they will sell 5 apples on a given day?"
      ],
      "metadata": {
        "id": "-eHpoOOfVqnR"
      }
    },
    {
      "cell_type": "code",
      "source": [
        "from scipy.stats import poisson\n",
        "import matplotlib.pyplot as plt\n",
        "print(round(poisson.pmf(k=5, mu=3),5))\n",
        "x = poisson.rvs(mu=3, size=10000)\n",
        "plt.hist(x, density=True, edgecolor='black')"
      ],
      "metadata": {
        "colab": {
          "base_uri": "https://localhost:8080/",
          "height": 352
        },
        "id": "2QutuczAVnhJ",
        "outputId": "336f29e9-77b8-4480-9be9-8beae5699bd7"
      },
      "execution_count": null,
      "outputs": [
        {
          "output_type": "stream",
          "name": "stdout",
          "text": [
            "0.10082\n"
          ]
        },
        {
          "output_type": "execute_result",
          "data": {
            "text/plain": [
              "(array([0.19263636, 0.20418182, 0.19109091, 0.15072727, 0.09063636,\n",
              "        0.04881818, 0.02      , 0.00754545, 0.00254545, 0.00090909]),\n",
              " array([ 0. ,  1.1,  2.2,  3.3,  4.4,  5.5,  6.6,  7.7,  8.8,  9.9, 11. ]),\n",
              " <a list of 10 Patch objects>)"
            ]
          },
          "metadata": {},
          "execution_count": 8
        },
        {
          "output_type": "display_data",
          "data": {
            "text/plain": [
              "<Figure size 432x288 with 1 Axes>"
            ],
            "image/png": "[encoded data removed]"
          },
          "metadata": {
            "needs_background": "light"
          }
        }
      ]
    },
    {
      "cell_type": "markdown",
      "source": [
        "Example 2: Probability Less than Some Value   \n",
        "A certain store sells seven footballs per day on average. What is the probability that this store sells four or less footballs in a given day?"
      ],
      "metadata": {
        "id": "yPJDofBLV_4Y"
      }
    },
    {
      "cell_type": "code",
      "source": [
        "print(round(poisson.cdf(k=4, mu=7),5))\n",
        "\n"
      ],
      "metadata": {
        "colab": {
          "base_uri": "https://localhost:8080/"
        },
        "id": "wAPmqkNWWAhs",
        "outputId": "884809be-45ff-4298-9aec-25dab499bd9a"
      },
      "execution_count": null,
      "outputs": [
        {
          "output_type": "stream",
          "name": "stdout",
          "text": [
            "0.17299\n"
          ]
        }
      ]
    },
    {
      "cell_type": "markdown",
      "source": [
        "Example 3: Probability Greater than Some Value\n",
        "\n",
        "A certain store sells 15 cans of tuna per day on average. What is the probability that this store sells more than 20 cans of tuna in a given day?"
      ],
      "metadata": {
        "id": "2u63xSEbWi40"
      }
    },
    {
      "cell_type": "code",
      "source": [
        "print(round(1-poisson.cdf(k=20, mu=15),5))"
      ],
      "metadata": {
        "colab": {
          "base_uri": "https://localhost:8080/"
        },
        "id": "r0mCLPe2Wjw_",
        "outputId": "36a42448-ebec-49e6-97e4-6aa4804cd88d"
      },
      "execution_count": null,
      "outputs": [
        {
          "output_type": "stream",
          "name": "stdout",
          "text": [
            "0.08297\n"
          ]
        }
      ]
    },
    {
      "cell_type": "code",
      "source": [
        "print(round(poisson.pmf(k=0, mu=3),5))"
      ],
      "metadata": {
        "colab": {
          "base_uri": "https://localhost:8080/"
        },
        "id": "g_Jtb3B9XO-W",
        "outputId": "896fa4fa-4b69-4339-a4e8-c09b7eda8132"
      },
      "execution_count": null,
      "outputs": [
        {
          "output_type": "stream",
          "name": "stdout",
          "text": [
            "0.04979\n"
          ]
        }
      ]
    }
  ]
}